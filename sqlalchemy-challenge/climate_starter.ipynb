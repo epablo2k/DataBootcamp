{
 "cells": [
  {
   "cell_type": "code",
   "execution_count": 12,
   "metadata": {},
   "outputs": [],
   "source": [
    "%matplotlib inline\n",
    "from matplotlib import style\n",
    "style.use('fivethirtyeight')\n",
    "import matplotlib.pyplot as plt"
   ]
  },
  {
   "cell_type": "code",
   "execution_count": 13,
   "metadata": {},
   "outputs": [],
   "source": [
    "import numpy as np\n",
    "import pandas as pd"
   ]
  },
  {
   "cell_type": "code",
   "execution_count": 14,
   "metadata": {},
   "outputs": [],
   "source": [
    "import datetime as dt"
   ]
  },
  {
   "cell_type": "markdown",
   "metadata": {},
   "source": [
    "# Reflect Tables into SQLAlchemy ORM"
   ]
  },
  {
   "cell_type": "code",
   "execution_count": 15,
   "metadata": {},
   "outputs": [],
   "source": [
    "# Python SQL toolkit and Object Relational Mapper\n",
    "import sqlalchemy\n",
    "from sqlalchemy.ext.automap import automap_base\n",
    "from sqlalchemy.orm import Session\n",
    "from sqlalchemy import create_engine, func, inspect"
   ]
  },
  {
   "cell_type": "code",
   "execution_count": 16,
   "metadata": {},
   "outputs": [],
   "source": [
    "engine = create_engine(\"sqlite:///Resources/hawaii.sqlite\")"
   ]
  },
  {
   "cell_type": "code",
   "execution_count": 17,
   "metadata": {},
   "outputs": [],
   "source": [
    "# reflect an existing database into a new model\n",
    "Base = automap_base()\n",
    "# reflect the tables\n",
    "Base.prepare(engine, reflect=True)"
   ]
  },
  {
   "cell_type": "code",
   "execution_count": 18,
   "metadata": {},
   "outputs": [
    {
     "data": {
      "text/plain": [
       "['measurement', 'station']"
      ]
     },
     "execution_count": 18,
     "metadata": {},
     "output_type": "execute_result"
    }
   ],
   "source": [
    "# We can view all of the classes that automap found\n",
    "Base.classes.keys()"
   ]
  },
  {
   "cell_type": "code",
   "execution_count": 19,
   "metadata": {},
   "outputs": [],
   "source": [
    "# Save references to each table\n",
    "Measurement = Base.classes.measurement\n",
    "Station = Base.classes.station"
   ]
  },
  {
   "cell_type": "code",
   "execution_count": 22,
   "metadata": {},
   "outputs": [],
   "source": [
    "# Create our session (link) from Python to the DB\n",
    "session = Session(engine)\n",
    "inspector = inspect(engine)"
   ]
  },
  {
   "cell_type": "code",
   "execution_count": 26,
   "metadata": {},
   "outputs": [
    {
     "name": "stdout",
     "output_type": "stream",
     "text": [
      "id INTEGER\n",
      "station TEXT\n",
      "date TEXT\n",
      "prcp FLOAT\n",
      "tobs FLOAT\n"
     ]
    }
   ],
   "source": [
    "columns = inspector.get_columns('Measurement')\n",
    "for column in columns:\n",
    "    print(column[\"name\"], column[\"type\"])"
   ]
  },
  {
   "cell_type": "code",
   "execution_count": 27,
   "metadata": {},
   "outputs": [
    {
     "name": "stdout",
     "output_type": "stream",
     "text": [
      "id INTEGER\n",
      "station TEXT\n",
      "name TEXT\n",
      "latitude FLOAT\n",
      "longitude FLOAT\n",
      "elevation FLOAT\n"
     ]
    }
   ],
   "source": [
    "columns = inspector.get_columns('Station')\n",
    "for column in columns:\n",
    "    print(column[\"name\"], column[\"type\"])"
   ]
  },
  {
   "cell_type": "markdown",
   "metadata": {},
   "source": [
    "# Exploratory Climate Analysis"
   ]
  },
  {
   "cell_type": "code",
   "execution_count": 291,
   "metadata": {},
   "outputs": [
    {
     "name": "stdout",
     "output_type": "stream",
     "text": [
      "station: USC00519397, date: 2017-08-23, precip: 0.0\n",
      "2016-08-23\n"
     ]
    },
    {
     "data": {
      "text/plain": [
       "(0, 6.7)"
      ]
     },
     "execution_count": 291,
     "metadata": {},
     "output_type": "execute_result"
    },
    {
     "data": {
      "image/png": "[encoded data removed]",
      "text/plain": [
       "<Figure size 432x288 with 1 Axes>"
      ]
     },
     "metadata": {},
     "output_type": "display_data"
    }
   ],
   "source": [
    "# Design a query to retrieve the last 12 months of precipitation data and plot the results\n",
    "\n",
    "\n",
    "precipitation = session.query(Measurement).order_by(Measurement.date.desc()).limit(1).all()\n",
    "\n",
    "for precip in precipitation:\n",
    "    print(\"station: {0}, date: {1}, precip: {2}\".format(precip.station , precip.date , precip.prcp))\n",
    "    filter_date = precip.date\n",
    "    \n",
    "from datetime import datetime\n",
    "\n",
    "format_string = \"%Y-%m-%d\"\n",
    "\n",
    "datetime_object = datetime.strptime(filter_date, format_string).date()\n",
    "\n",
    "filter_date = datetime_object.replace(year = datetime_object.year - 1)\n",
    "\n",
    "print(filter_date)\n",
    "\n",
    "date_l = []\n",
    "precip_l = []\n",
    "\n",
    "\n",
    "precipitation = session.query(Measurement).filter(Measurement.date > filter_date).all()\n",
    "for precip in precipitation:\n",
    "    #print(\"station: {0}, date: {1}, precip: {2}\".format(precip.station , precip.date , precip.prcp))\n",
    "    date_l.append(precip.date)\n",
    "    precip_l.append(precip.prcp)\n",
    "\n",
    "    \n",
    "df_precip = pd.DataFrame({'date': date_l, 'precip': precip_l})   \n",
    "df_precip = df_precip.sort_values('date')\n",
    "df_precip = df_precip.fillna(0)\n",
    "#df_precip = df_precip.groupby(['date']).sum()\n",
    "df_precip.head(10)\n",
    "\n",
    "ax = df_precip.plot.bar(y='precip')\n",
    "\n",
    "ax.axes.get_xaxis().set_ticks([])\n",
    "\n",
    "plt.ylim((0,max(df_precip['precip'])))\n",
    "\n",
    "\n"
   ]
  },
  {
   "cell_type": "markdown",
   "metadata": {},
   "source": [
    "![precipitation](Images/precipitation.png)"
   ]
  },
  {
   "cell_type": "code",
   "execution_count": 292,
   "metadata": {},
   "outputs": [
    {
     "data": {
      "text/html": [
       "<div>\n",
       "<style scoped>\n",
       "    .dataframe tbody tr th:only-of-type {\n",
       "        vertical-align: middle;\n",
       "    }\n",
       "\n",
       "    .dataframe tbody tr th {\n",
       "        vertical-align: top;\n",
       "    }\n",
       "\n",
       "    .dataframe thead th {\n",
       "        text-align: right;\n",
       "    }\n",
       "</style>\n",
       "<table border=\"1\" class=\"dataframe\">\n",
       "  <thead>\n",
       "    <tr style=\"text-align: right;\">\n",
       "      <th></th>\n",
       "      <th>precip</th>\n",
       "    </tr>\n",
       "  </thead>\n",
       "  <tbody>\n",
       "    <tr>\n",
       "      <th>count</th>\n",
       "      <td>2223.000000</td>\n",
       "    </tr>\n",
       "    <tr>\n",
       "      <th>mean</th>\n",
       "      <td>0.159951</td>\n",
       "    </tr>\n",
       "    <tr>\n",
       "      <th>std</th>\n",
       "      <td>0.441220</td>\n",
       "    </tr>\n",
       "    <tr>\n",
       "      <th>min</th>\n",
       "      <td>0.000000</td>\n",
       "    </tr>\n",
       "    <tr>\n",
       "      <th>25%</th>\n",
       "      <td>0.000000</td>\n",
       "    </tr>\n",
       "    <tr>\n",
       "      <th>50%</th>\n",
       "      <td>0.010000</td>\n",
       "    </tr>\n",
       "    <tr>\n",
       "      <th>75%</th>\n",
       "      <td>0.110000</td>\n",
       "    </tr>\n",
       "    <tr>\n",
       "      <th>max</th>\n",
       "      <td>6.700000</td>\n",
       "    </tr>\n",
       "  </tbody>\n",
       "</table>\n",
       "</div>"
      ],
      "text/plain": [
       "            precip\n",
       "count  2223.000000\n",
       "mean      0.159951\n",
       "std       0.441220\n",
       "min       0.000000\n",
       "25%       0.000000\n",
       "50%       0.010000\n",
       "75%       0.110000\n",
       "max       6.700000"
      ]
     },
     "execution_count": 292,
     "metadata": {},
     "output_type": "execute_result"
    }
   ],
   "source": [
    "df_precip.describe()"
   ]
  },
  {
   "cell_type": "markdown",
   "metadata": {},
   "source": [
    "![describe](Images/describe.png)"
   ]
  },
  {
   "cell_type": "code",
   "execution_count": 100,
   "metadata": {},
   "outputs": [
    {
     "name": "stdout",
     "output_type": "stream",
     "text": [
      "9\n"
     ]
    }
   ],
   "source": [
    "# Design a query to show how many stations are available in this dataset?\n",
    "stations = session.query(Measurement).group_by(Measurement.station).count()\n",
    "print(stations)"
   ]
  },
  {
   "cell_type": "code",
   "execution_count": 152,
   "metadata": {
    "scrolled": true
   },
   "outputs": [
    {
     "name": "stdout",
     "output_type": "stream",
     "text": [
      "station: -->USC00519281<--- - Count: 2772\n",
      "station: -->USC00519397<--- - Count: 2724\n",
      "station: -->USC00513117<--- - Count: 2709\n",
      "station: -->USC00519523<--- - Count: 2669\n",
      "station: -->USC00516128<--- - Count: 2612\n",
      "station: -->USC00514830<--- - Count: 2202\n",
      "station: -->USC00511918<--- - Count: 1979\n",
      "station: -->USC00517948<--- - Count: 1372\n",
      "station: -->USC00518838<--- - Count: 511\n"
     ]
    }
   ],
   "source": [
    "# What are the most active stations? (i.e. what stations have the most rows)?\n",
    "# List the stations and the counts in descending order.\n",
    "precipitation = session.query(Measurement.station, func.count(Measurement.station).label('ctr')).group_by(Measurement.station).order_by(func.count(Measurement.station).desc()).all()\n",
    "\n",
    "station = []\n",
    "count = []\n",
    "\n",
    "for precip in precipitation:\n",
    "    print(\"station: -->{0}<--- - Count: {1}\".format(precip.station,precip.ctr))\n",
    "    station.append(precip.station)\n",
    "    count.append(precip.ctr)\n",
    "    #date_l.append(precip.date)\n",
    "    #precip_l.append(precip.prcp)\n"
   ]
  },
  {
   "cell_type": "code",
   "execution_count": 168,
   "metadata": {},
   "outputs": [
    {
     "name": "stdout",
     "output_type": "stream",
     "text": [
      "USC00519281\n",
      "station:USC00519281 min:54.0 - max:85.0 - avg:71.66\n"
     ]
    }
   ],
   "source": [
    "# Using the station id from the previous query, calculate the lowest temperature recorded, \n",
    "# highest temperature recorded, and average temperature most active station?\n",
    "print (station[0])\n",
    "precipitation = session.query(Measurement.station, func.min(Measurement.tobs).label('mint')).group_by(Measurement.station).all()\n",
    "for precip in precipitation:\n",
    "    #print(\"station: {0} - Count: {1}\".format(precip.station,precip.mint))\n",
    "    if (precip.station==station[0]): min_t = precip.mint\n",
    "\n",
    "precipitation = session.query(Measurement.station, func.max(Measurement.tobs).label('maxt')).group_by(Measurement.station).all()\n",
    "for precip in precipitation:\n",
    "    #print(\"station: {0} - Count: {1}\".format(precip.station,precip.maxt))\n",
    "    if (precip.station==station[0]): max_t = precip.maxt\n",
    "\n",
    "precipitation = session.query(Measurement.station, func.avg(Measurement.tobs).label('avgt')).group_by(Measurement.station).all()\n",
    "for precip in precipitation:\n",
    "    #print(\"station: {0} - Count: {1}\".format(precip.station,precip.maxt))\n",
    "    if (precip.station==station[0]): avg_t = precip.avgt\n",
    "        \n",
    "        \n",
    "        \n",
    "print (f\"station:{station[0]} min:{min_t} - max:{max_t} - avg:{round(avg_t,2)}\")"
   ]
  },
  {
   "cell_type": "code",
   "execution_count": 178,
   "metadata": {},
   "outputs": [
    {
     "name": "stdout",
     "output_type": "stream",
     "text": [
      "2016-08-18\n"
     ]
    },
    {
     "data": {
      "text/plain": [
       "Text(0, 0.5, 'Frequency')"
      ]
     },
     "execution_count": 178,
     "metadata": {},
     "output_type": "execute_result"
    },
    {
     "data": {
      "image/png": "[encoded data removed]",
      "text/plain": [
       "<Figure size 432x288 with 1 Axes>"
      ]
     },
     "metadata": {},
     "output_type": "display_data"
    }
   ],
   "source": [
    "# Choose the station with the highest number of temperature observations.\n",
    "# Query the last 12 months of temperature observation data for this station and plot the results as a histogram\n",
    "\n",
    "precipitation = session.query(Measurement).order_by(Measurement.date.desc()).filter(Measurement.station==station[0]).limit(1).all()\n",
    "for precip in precipitation:\n",
    "    #print(\"station: {0}, temp: {1}\".format(precip.station , precip.tobs))\n",
    "    filter_date = precip.date\n",
    "\n",
    "    \n",
    "from datetime import datetime\n",
    "\n",
    "format_string = \"%Y-%m-%d\"\n",
    "\n",
    "datetime_object = datetime.strptime(filter_date, format_string).date()\n",
    "\n",
    "filter_date = datetime_object.replace(year = datetime_object.year - 1)\n",
    "\n",
    "print(filter_date)\n",
    "\n",
    "tobs_l=[]    \n",
    "    \n",
    "precipitation = session.query(Measurement).filter(Measurement.date > filter_date,Measurement.station==station[0]).all()\n",
    "for precip in precipitation:\n",
    "    #print(\"station: {0}, tobs: {1}\".format(precip.station , precip.tobs))\n",
    "    tobs_l.append(precip.tobs)\n",
    "    \n",
    "df_precip = pd.DataFrame({'tobs': tobs_l})       \n",
    "\n",
    "df_precip.head()\n",
    "df_precip.hist()\n",
    "plt.xlabel('Temp')\n",
    "plt.ylabel('Frequency')"
   ]
  },
  {
   "cell_type": "markdown",
   "metadata": {},
   "source": [
    "![precipitation](Images/station-histogram.png)"
   ]
  },
  {
   "cell_type": "code",
   "execution_count": 284,
   "metadata": {},
   "outputs": [],
   "source": [
    "# This function called `calc_temps` will accept start date and end date in the format '%Y-%m-%d' \n",
    "# and return the minimum, average, and maximum temperatures for that range of dates\n",
    "def calc_temps(start_date, end_date):\n",
    "    #\"\"\"TMIN, TAVG, and TMAX for a list of dates.\n",
    "    \n",
    "    #Args:\n",
    "    #    start_date (string): A date string in the format %Y-%m-%d\n",
    "    #    end_date (string): A date string in the format %Y-%m-%d\n",
    "        \n",
    "    #Returns:\n",
    "    #    TMIN, TAVE, and TMAX\n",
    "    #\"\"\"\n",
    "    \n",
    "    return session.query(func.min(Measurement.tobs).label('mint'), func.avg(Measurement.tobs).label('avgt'), func.max(Measurement.tobs).label('maxt')).\\\n",
    "        filter(Measurement.date >= start_date).filter(Measurement.date <= end_date).all()\n",
    "\n",
    "# function usage example\n",
    "#print(calc_temps('2012-02-28', '2012-03-05'))"
   ]
  },
  {
   "cell_type": "code",
   "execution_count": 285,
   "metadata": {},
   "outputs": [],
   "source": [
    "# Use your previous function `calc_temps` to calculate the tmin, tavg, and tmax \n",
    "# for your trip using the previous year's data for those same dates.\n",
    "\n",
    "myresults = calc_temps('2017-01-01', '2017-03-05')\n",
    "\n",
    "mint = myresults[0][0]\n",
    "avgt = myresults[0][1]\n",
    "maxt = myresults[0][2]\n"
   ]
  },
  {
   "cell_type": "markdown",
   "metadata": {},
   "source": [
    "#### Plot the results from your previous query as a bar chart. \n",
    "# Use \"Trip Avg Temp\" as your Title\n",
    "# Use the average temperature for the y value\n",
    "# Use the peak-to-peak (tmax-tmin) value as the y error bar (yerr)\n",
    "\n",
    "\n"
   ]
  },
  {
   "cell_type": "code",
   "execution_count": 286,
   "metadata": {},
   "outputs": [
    {
     "data": {
      "text/plain": [
       "([], <a list of 0 Text xticklabel objects>)"
      ]
     },
     "execution_count": 286,
     "metadata": {},
     "output_type": "execute_result"
    },
    {
     "data": {
      "image/png": "[encoded data removed]",
      "text/plain": [
       "<Figure size 432x288 with 1 Axes>"
      ]
     },
     "metadata": {},
     "output_type": "display_data"
    }
   ],
   "source": [
    "p1 = plt.bar(0, avgt, 1, yerr=maxt-mint)\n",
    "plt.suptitle('Trip Avg Temp')\n",
    "plt.xticks([])"
   ]
  },
  {
   "cell_type": "code",
   "execution_count": 282,
   "metadata": {},
   "outputs": [
    {
     "name": "stdout",
     "output_type": "stream",
     "text": [
      "[('USC00513117', 'KANEOHE 838.1, HI US', 21.4234, -157.8015, 13.51), ('USC00514830', 'KUALOA RANCH HEADQUARTERS 886.9, HI US', 21.5213, -157.8374, 7.8500000000000005), ('USC00516128', 'MANOA LYON ARBO 785.2, HI US', 21.3331, -157.8025, 16.770000000000003), ('USC00517948', 'PEARL CITY, HI US', 21.3934, -157.9751, 3.2), ('USC00519281', 'WAIHEE 837.5, HI US', 21.45167, -157.84888999999998, 13.530000000000001), ('USC00519397', 'WAIKIKI 717.2, HI US', 21.2716, -157.8168, 6.829999999999999), ('USC00519523', 'WAIMANALO EXPERIMENTAL FARM, HI US', 21.33556, -157.71139, 10.940000000000001)]\n"
     ]
    }
   ],
   "source": [
    "# Calculate the total amount of rainfall per weather station for your trip dates using the previous year's matching dates.\n",
    "# Sort this in descending order by precipitation amount and list the station, name, latitude, longitude, and elevation\n",
    "\n",
    "start_date = '2017-01-01'\n",
    "end_date='2017-03-05'\n",
    "\n",
    "\n",
    "\n",
    "totalrain = session.query(Station.station,Station.name,Station.latitude,Station.longitude,func.sum(Measurement.prcp).label('sumprecip')).\\\n",
    "        filter(Measurement.date >= start_date).filter(Measurement.date <= end_date).filter(Station.station==Measurement.station).\\\n",
    "        group_by(Station.station).all()\n",
    "\n",
    "print (totalrain)\n",
    "\n",
    "\n"
   ]
  },
  {
   "cell_type": "markdown",
   "metadata": {},
   "source": [
    "## Optional Challenge Assignment"
   ]
  },
  {
   "cell_type": "code",
   "execution_count": 287,
   "metadata": {},
   "outputs": [
    {
     "data": {
      "text/plain": [
       "[(62.0, 69.15384615384616, 77.0)]"
      ]
     },
     "execution_count": 287,
     "metadata": {},
     "output_type": "execute_result"
    }
   ],
   "source": [
    "# Create a query that will calculate the daily normals \n",
    "# (i.e. the averages for tmin, tmax, and tavg for all historic data matching a specific month and day)\n",
    "\n",
    "def daily_normals(date):\n",
    "    \"\"\"Daily Normals.\n",
    "    \n",
    "    Args:\n",
    "        date (str): A date string in the format '%m-%d'\n",
    "        \n",
    "    Returns:\n",
    "        A list of tuples containing the daily normals, tmin, tavg, and tmax\n",
    "    \n",
    "    \"\"\"\n",
    "    \n",
    "    sel = [func.min(Measurement.tobs), func.avg(Measurement.tobs), func.max(Measurement.tobs)]\n",
    "    return session.query(*sel).filter(func.strftime(\"%m-%d\", Measurement.date) == date).all()\n",
    "    \n",
    "daily_normals(\"01-01\")"
   ]
  },
  {
   "cell_type": "code",
   "execution_count": 288,
   "metadata": {},
   "outputs": [
    {
     "name": "stdout",
     "output_type": "stream",
     "text": [
      "01-01\n",
      "2017-03-04\n",
      "01-02\n",
      "2017-03-04\n",
      "01-03\n",
      "2017-03-04\n",
      "01-04\n",
      "2017-03-04\n",
      "01-05\n",
      "2017-03-04\n",
      "01-06\n",
      "2017-03-04\n",
      "01-07\n",
      "2017-03-04\n",
      "01-08\n",
      "2017-03-04\n",
      "01-09\n",
      "2017-03-04\n",
      "01-10\n",
      "2017-03-04\n",
      "01-11\n",
      "2017-03-04\n",
      "01-12\n",
      "2017-03-04\n",
      "01-13\n",
      "2017-03-04\n",
      "01-14\n",
      "2017-03-04\n",
      "01-15\n",
      "2017-03-04\n",
      "01-16\n",
      "2017-03-04\n",
      "01-17\n",
      "2017-03-04\n",
      "01-18\n",
      "2017-03-04\n",
      "01-19\n",
      "2017-03-04\n",
      "01-20\n",
      "2017-03-04\n",
      "01-21\n",
      "2017-03-04\n",
      "01-22\n",
      "2017-03-04\n",
      "01-23\n",
      "2017-03-04\n",
      "01-24\n",
      "2017-03-04\n",
      "01-25\n",
      "2017-03-04\n",
      "01-26\n",
      "2017-03-04\n",
      "01-27\n",
      "2017-03-04\n",
      "01-28\n",
      "2017-03-04\n",
      "01-29\n",
      "2017-03-04\n",
      "01-30\n",
      "2017-03-04\n",
      "01-31\n",
      "2017-03-04\n",
      "02-01\n",
      "2017-03-04\n",
      "02-02\n",
      "2017-03-04\n",
      "02-03\n",
      "2017-03-04\n",
      "02-04\n",
      "2017-03-04\n",
      "02-05\n",
      "2017-03-04\n",
      "02-06\n",
      "2017-03-04\n",
      "02-07\n",
      "2017-03-04\n",
      "02-08\n",
      "2017-03-04\n",
      "02-09\n",
      "2017-03-04\n",
      "02-10\n",
      "2017-03-04\n",
      "02-11\n",
      "2017-03-04\n",
      "02-12\n",
      "2017-03-04\n",
      "02-13\n",
      "2017-03-04\n",
      "02-14\n",
      "2017-03-04\n",
      "02-15\n",
      "2017-03-04\n",
      "02-16\n",
      "2017-03-04\n",
      "02-17\n",
      "2017-03-04\n",
      "02-18\n",
      "2017-03-04\n",
      "02-19\n",
      "2017-03-04\n",
      "02-20\n",
      "2017-03-04\n",
      "02-21\n",
      "2017-03-04\n",
      "02-22\n",
      "2017-03-04\n",
      "02-23\n",
      "2017-03-04\n",
      "02-24\n",
      "2017-03-04\n",
      "02-25\n",
      "2017-03-04\n",
      "02-26\n",
      "2017-03-04\n",
      "02-27\n",
      "2017-03-04\n",
      "02-28\n",
      "2017-03-04\n",
      "03-01\n",
      "2017-03-04\n",
      "03-02\n",
      "2017-03-04\n",
      "03-03\n",
      "2017-03-04\n",
      "03-04\n",
      "2017-03-04\n"
     ]
    }
   ],
   "source": [
    "# calculate the daily normals for your trip\n",
    "# push each tuple of calculations into a list called `normals`\n",
    "\n",
    "\n",
    "startdate = '2017-01-01'\n",
    "enddate = '2017-03-05'\n",
    "\n",
    "\n",
    "format_string = \"%Y-%m-%d\"\n",
    "\n",
    "datetime_start = datetime.strptime(startdate, format_string).date()\n",
    "datetime_end = datetime.strptime(enddate, format_string).date()\n",
    "days = (datetime_end - datetime_start).days\n",
    "datelist = pd.date_range(startdate, periods=days).tolist()\n",
    "\n",
    "date_l = []\n",
    "tmin_l = []\n",
    "tavg_l = []\n",
    "tmax_l = []\n",
    "\n",
    "for date in datelist:\n",
    "    if (date.day<10):\n",
    "        dd = f\"0{date.day}\"\n",
    "    else:\n",
    "         dd = f\"{date.day}\"\n",
    "            \n",
    "    if (date.month<10):\n",
    "        mm = f\"0{date.month}\"\n",
    "    else:\n",
    "         mm = f\"{date.month}\"\n",
    "    \n",
    "    \n",
    "    monthday = f\"{mm}-{dd}\"\n",
    "    print(monthday)\n",
    "    temps = daily_normals(monthday)\n",
    "    \n",
    "    \n",
    "    \n",
    "    tmin_add = temps[0][0]\n",
    "    tavg_add = temps[0][1]\n",
    "    tmax_add = temps[0][2]\n",
    "    date_add = f\"{date.year}-{monthday}\"\n",
    "    \n",
    "    date_l.append(date_add)\n",
    "    tmin_l.append(tmin_add)\n",
    "    tavg_l.append(tavg_add)\n",
    "    tmax_l.append(tmax_add)\n",
    "\n",
    "\n",
    "    print(datecal)\n",
    "    \n",
    "#print(datelist) \n",
    "# Set the start and end date of the trip\n",
    "\n",
    "# Use the start and end date to create a range of dates\n",
    "\n",
    "# Stip off the year and save a list of %m-%d strings\n",
    "\n",
    "# Loop through the list of %m-%d strings and calculate the normals for each date\n"
   ]
  },
  {
   "cell_type": "code",
   "execution_count": 289,
   "metadata": {},
   "outputs": [
    {
     "data": {
      "text/html": [
       "<div>\n",
       "<style scoped>\n",
       "    .dataframe tbody tr th:only-of-type {\n",
       "        vertical-align: middle;\n",
       "    }\n",
       "\n",
       "    .dataframe tbody tr th {\n",
       "        vertical-align: top;\n",
       "    }\n",
       "\n",
       "    .dataframe thead th {\n",
       "        text-align: right;\n",
       "    }\n",
       "</style>\n",
       "<table border=\"1\" class=\"dataframe\">\n",
       "  <thead>\n",
       "    <tr style=\"text-align: right;\">\n",
       "      <th></th>\n",
       "      <th>tmin</th>\n",
       "      <th>tavg</th>\n",
       "      <th>tmax</th>\n",
       "    </tr>\n",
       "    <tr>\n",
       "      <th>date</th>\n",
       "      <th></th>\n",
       "      <th></th>\n",
       "      <th></th>\n",
       "    </tr>\n",
       "  </thead>\n",
       "  <tbody>\n",
       "    <tr>\n",
       "      <th>2017-01-01</th>\n",
       "      <td>62.0</td>\n",
       "      <td>69.153846</td>\n",
       "      <td>77.0</td>\n",
       "    </tr>\n",
       "    <tr>\n",
       "      <th>2017-01-02</th>\n",
       "      <td>60.0</td>\n",
       "      <td>69.396226</td>\n",
       "      <td>77.0</td>\n",
       "    </tr>\n",
       "    <tr>\n",
       "      <th>2017-01-03</th>\n",
       "      <td>62.0</td>\n",
       "      <td>68.909091</td>\n",
       "      <td>77.0</td>\n",
       "    </tr>\n",
       "    <tr>\n",
       "      <th>2017-01-04</th>\n",
       "      <td>58.0</td>\n",
       "      <td>70.000000</td>\n",
       "      <td>76.0</td>\n",
       "    </tr>\n",
       "    <tr>\n",
       "      <th>2017-01-05</th>\n",
       "      <td>56.0</td>\n",
       "      <td>67.964286</td>\n",
       "      <td>76.0</td>\n",
       "    </tr>\n",
       "  </tbody>\n",
       "</table>\n",
       "</div>"
      ],
      "text/plain": [
       "            tmin       tavg  tmax\n",
       "date                             \n",
       "2017-01-01  62.0  69.153846  77.0\n",
       "2017-01-02  60.0  69.396226  77.0\n",
       "2017-01-03  62.0  68.909091  77.0\n",
       "2017-01-04  58.0  70.000000  76.0\n",
       "2017-01-05  56.0  67.964286  76.0"
      ]
     },
     "execution_count": 289,
     "metadata": {},
     "output_type": "execute_result"
    }
   ],
   "source": [
    "# Load the previous query results into a Pandas DataFrame and add the `trip_dates` range as the `date` index\n",
    "df_stations = pd.DataFrame({'date': date_l,'tmin':tmin_l,'tavg':tavg_l,'tmax':tmax_l})\n",
    "df_stations = df_stations.set_index('date')\n",
    "df_stations.head()"
   ]
  },
  {
   "cell_type": "code",
   "execution_count": 290,
   "metadata": {},
   "outputs": [
    {
     "data": {
      "text/plain": [
       "(array([ 0., 10., 20., 30., 40., 50., 60., 70.]),\n",
       " <a list of 8 Text xticklabel objects>)"
      ]
     },
     "execution_count": 290,
     "metadata": {},
     "output_type": "execute_result"
    },
    {
     "data": {
      "image/png": "[encoded data removed]",
      "text/plain": [
       "<Figure size 432x288 with 1 Axes>"
      ]
     },
     "metadata": {},
     "output_type": "display_data"
    }
   ],
   "source": [
    "# Plot the daily normals as an area plot with `stacked=False`\n",
    "df_stations.plot(kind='area', stacked=False, alpha=0.5, colormap='Spectral',\n",
    "        title='Daily Normals')\n",
    "plt.xticks(rotation=90)"
   ]
  },
  {
   "cell_type": "code",
   "execution_count": null,
   "metadata": {},
   "outputs": [],
   "source": []
  }
 ],
 "metadata": {
  "kernel_info": {
   "name": "python3"
  },
  "kernelspec": {
   "display_name": "Python 3",
   "language": "python",
   "name": "python3"
  },
  "language_info": {
   "codemirror_mode": {
    "name": "ipython",
    "version": 3
   },
   "file_extension": ".py",
   "mimetype": "text/x-python",
   "name": "python",
   "nbconvert_exporter": "python",
   "pygments_lexer": "ipython3",
   "version": "3.7.3"
  },
  "nteract": {
   "version": "0.12.3"
  },
  "varInspector": {
   "cols": {
    "lenName": 16,
    "lenType": 16,
    "lenVar": 40
   },
   "kernels_config": {
    "python": {
     "delete_cmd_postfix": "",
     "delete_cmd_prefix": "del ",
     "library": "var_list.py",
     "varRefreshCmd": "print(var_dic_list())"
    },
    "r": {
     "delete_cmd_postfix": ") ",
     "delete_cmd_prefix": "rm(",
     "library": "var_list.r",
     "varRefreshCmd": "cat(var_dic_list()) "
    }
   },
   "types_to_exclude": [
    "module",
    "function",
    "builtin_function_or_method",
    "instance",
    "_Feature"
   ],
   "window_display": false
  }
 },
 "nbformat": 4,
 "nbformat_minor": 2
}
