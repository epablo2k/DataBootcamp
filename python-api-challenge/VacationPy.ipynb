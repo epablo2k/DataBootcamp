{
 "cells": [
  {
   "cell_type": "markdown",
   "metadata": {},
   "source": [
    "# VacationPy\n",
    "----\n",
    "\n",
    "#### Note\n",
    "* Instructions have been included for each segment. You do not have to follow them exactly, but they are included to help you think through the steps."
   ]
  },
  {
   "cell_type": "code",
   "execution_count": 75,
   "metadata": {},
   "outputs": [],
   "source": [
    "# Dependencies and Setup\n",
    "import matplotlib.pyplot as plt\n",
    "import pandas as pd\n",
    "import numpy as np\n",
    "import requests\n",
    "import gmaps\n",
    "import os\n",
    "import random\n",
    "\n",
    "# Import API key\n",
    "from api_keys import g_key\n"
   ]
  },
  {
   "cell_type": "markdown",
   "metadata": {},
   "source": [
    "### Store Part I results into DataFrame\n",
    "* Load the csv exported in Part I to a DataFrame"
   ]
  },
  {
   "cell_type": "code",
   "execution_count": 76,
   "metadata": {},
   "outputs": [
    {
     "data": {
      "text/html": [
       "<div>\n",
       "<style scoped>\n",
       "    .dataframe tbody tr th:only-of-type {\n",
       "        vertical-align: middle;\n",
       "    }\n",
       "\n",
       "    .dataframe tbody tr th {\n",
       "        vertical-align: top;\n",
       "    }\n",
       "\n",
       "    .dataframe thead th {\n",
       "        text-align: right;\n",
       "    }\n",
       "</style>\n",
       "<table border=\"1\" class=\"dataframe\">\n",
       "  <thead>\n",
       "    <tr style=\"text-align: right;\">\n",
       "      <th></th>\n",
       "      <th>Unnamed: 0</th>\n",
       "      <th>City</th>\n",
       "      <th>Cloudiness</th>\n",
       "      <th>Country</th>\n",
       "      <th>Date</th>\n",
       "      <th>Humidity</th>\n",
       "      <th>Lat</th>\n",
       "      <th>Lng</th>\n",
       "      <th>Max Temp</th>\n",
       "      <th>Wind Speed</th>\n",
       "    </tr>\n",
       "  </thead>\n",
       "  <tbody>\n",
       "    <tr>\n",
       "      <th>0</th>\n",
       "      <td>0</td>\n",
       "      <td>Busselton</td>\n",
       "      <td>74</td>\n",
       "      <td>AU</td>\n",
       "      <td>2019-09-22 22:10:59.000000</td>\n",
       "      <td>34</td>\n",
       "      <td>-33.64</td>\n",
       "      <td>115.35</td>\n",
       "      <td>21.67</td>\n",
       "      <td>5.96</td>\n",
       "    </tr>\n",
       "    <tr>\n",
       "      <th>1</th>\n",
       "      <td>1</td>\n",
       "      <td>Vostok</td>\n",
       "      <td>0</td>\n",
       "      <td>RU</td>\n",
       "      <td>2019-09-22 22:11:44.000000</td>\n",
       "      <td>46</td>\n",
       "      <td>46.45</td>\n",
       "      <td>135.83</td>\n",
       "      <td>17.85</td>\n",
       "      <td>1.48</td>\n",
       "    </tr>\n",
       "    <tr>\n",
       "      <th>2</th>\n",
       "      <td>2</td>\n",
       "      <td>Verkhovyna</td>\n",
       "      <td>0</td>\n",
       "      <td>UA</td>\n",
       "      <td>2019-09-22 22:11:44.000000</td>\n",
       "      <td>65</td>\n",
       "      <td>48.15</td>\n",
       "      <td>24.83</td>\n",
       "      <td>6.85</td>\n",
       "      <td>2.00</td>\n",
       "    </tr>\n",
       "    <tr>\n",
       "      <th>3</th>\n",
       "      <td>3</td>\n",
       "      <td>Tuktoyaktuk</td>\n",
       "      <td>90</td>\n",
       "      <td>CA</td>\n",
       "      <td>2019-09-22 22:11:44.000000</td>\n",
       "      <td>100</td>\n",
       "      <td>69.44</td>\n",
       "      <td>-133.03</td>\n",
       "      <td>4.00</td>\n",
       "      <td>3.10</td>\n",
       "    </tr>\n",
       "    <tr>\n",
       "      <th>4</th>\n",
       "      <td>4</td>\n",
       "      <td>Codrington</td>\n",
       "      <td>40</td>\n",
       "      <td>AU</td>\n",
       "      <td>2019-09-22 22:11:44.000000</td>\n",
       "      <td>32</td>\n",
       "      <td>-28.95</td>\n",
       "      <td>153.24</td>\n",
       "      <td>30.00</td>\n",
       "      <td>5.10</td>\n",
       "    </tr>\n",
       "  </tbody>\n",
       "</table>\n",
       "</div>"
      ],
      "text/plain": [
       "   Unnamed: 0         City  Cloudiness Country                        Date  \\\n",
       "0           0    Busselton          74      AU  2019-09-22 22:10:59.000000   \n",
       "1           1       Vostok           0      RU  2019-09-22 22:11:44.000000   \n",
       "2           2   Verkhovyna           0      UA  2019-09-22 22:11:44.000000   \n",
       "3           3  Tuktoyaktuk          90      CA  2019-09-22 22:11:44.000000   \n",
       "4           4   Codrington          40      AU  2019-09-22 22:11:44.000000   \n",
       "\n",
       "   Humidity    Lat     Lng  Max Temp  Wind Speed  \n",
       "0        34 -33.64  115.35     21.67        5.96  \n",
       "1        46  46.45  135.83     17.85        1.48  \n",
       "2        65  48.15   24.83      6.85        2.00  \n",
       "3       100  69.44 -133.03      4.00        3.10  \n",
       "4        32 -28.95  153.24     30.00        5.10  "
      ]
     },
     "execution_count": 76,
     "metadata": {},
     "output_type": "execute_result"
    }
   ],
   "source": [
    "csv_cities = pd.read_csv ('weather_out.csv')\n",
    "df_cities = pd.DataFrame(csv_cities)\n",
    "\n",
    "df_cities.head()"
   ]
  },
  {
   "cell_type": "markdown",
   "metadata": {},
   "source": [
    "### Humidity Heatmap\n",
    "* Configure gmaps.\n",
    "* Use the Lat and Lng as locations and Humidity as the weight.\n",
    "* Add Heatmap layer to map."
   ]
  },
  {
   "cell_type": "code",
   "execution_count": 26,
   "metadata": {},
   "outputs": [],
   "source": [
    "coordinates = []\n",
    "humidity = []\n",
    "temperature = []\n",
    "\n",
    "for city in df_cities[\"City\"]:\n",
    "    #print (city)\n",
    "    lat = df_cities.loc[df_cities['City'] == city]['Lat'].item()\n",
    "    lng = df_cities.loc[df_cities['City'] == city]['Lng'].item()\n",
    "    data = (lat,lng)\n",
    "    humidity_data = df_cities.loc[df_cities['City'] == city]['Humidity'].item()\n",
    "    temperature_data = df_cities.loc[df_cities['City'] == city]['Max Temp'].item()\n",
    "    coordinates.append(data)\n",
    "    humidity.append(humidity_data)\n",
    "    if (temperature_data<0):\n",
    "        temperature_data=0\n",
    "    temperature.append(temperature_data)\n",
    "    \n",
    "    \n",
    "#print(humidity)\n"
   ]
  },
  {
   "cell_type": "code",
   "execution_count": 30,
   "metadata": {},
   "outputs": [
    {
     "data": {
      "application/vnd.jupyter.widget-view+json": {
       "model_id": "a46d62672c904efd84aedb1a6ecc1b12",
       "version_major": 2,
       "version_minor": 0
      },
      "text/plain": [
       "Figure(layout=FigureLayout(height='420px'))"
      ]
     },
     "metadata": {},
     "output_type": "display_data"
    }
   ],
   "source": [
    "fig = gmaps.figure()\n",
    "heatmap_layer = gmaps.heatmap_layer(coordinates,humidity) \n",
    "heatmap_layer.max_intensity = 100\n",
    "heatmap_layer.point_radius = 5\n",
    "fig.add_layer(heatmap_layer)\n",
    "fig\n"
   ]
  },
  {
   "cell_type": "code",
   "execution_count": 31,
   "metadata": {},
   "outputs": [
    {
     "data": {
      "application/vnd.jupyter.widget-view+json": {
       "model_id": "6af22d3e2c454c549d6eecb2076a5ba6",
       "version_major": 2,
       "version_minor": 0
      },
      "text/plain": [
       "Figure(layout=FigureLayout(height='420px'))"
      ]
     },
     "metadata": {},
     "output_type": "display_data"
    }
   ],
   "source": [
    "fig = gmaps.figure()\n",
    "heatmap_layer = gmaps.heatmap_layer(coordinates,temperature) \n",
    "heatmap_layer.max_intensity = 35\n",
    "heatmap_layer.point_radius = 5\n",
    "fig.add_layer(heatmap_layer)\n",
    "fig"
   ]
  },
  {
   "cell_type": "markdown",
   "metadata": {},
   "source": [
    "### Create new DataFrame fitting weather criteria\n",
    "* Narrow down the cities to fit weather conditions.\n",
    "* Drop any rows will null values."
   ]
  },
  {
   "cell_type": "code",
   "execution_count": 44,
   "metadata": {},
   "outputs": [
    {
     "data": {
      "text/plain": [
       "Unnamed: 0    18\n",
       "City          18\n",
       "Cloudiness    18\n",
       "Country       18\n",
       "Date          18\n",
       "Humidity      18\n",
       "Lat           18\n",
       "Lng           18\n",
       "Max Temp      18\n",
       "Wind Speed    18\n",
       "Hotel Name    18\n",
       "dtype: int64"
      ]
     },
     "execution_count": 44,
     "metadata": {},
     "output_type": "execute_result"
    }
   ],
   "source": [
    "# For my perfect vacaion spot I would like a temperature between 20 and 25 C and I don't like it very humid\n",
    "# So Humidity < 50 %\n",
    "\n",
    "df_perfectplaces = df_cities.loc[(df_cities[\"Humidity\"] < 50) & (df_cities[\"Max Temp\"] < 25) & (df_cities[\"Max Temp\"] > 20)]\n",
    "df_hotels = df_perfectplaces.copy()\n",
    "df_hotels[\"Hotel Name\"] = \"\"\n",
    "df_hotels.count()"
   ]
  },
  {
   "cell_type": "markdown",
   "metadata": {},
   "source": [
    "### Hotel Map\n",
    "* Store into variable named `hotel_df`.\n",
    "* Add a \"Hotel Name\" column to the DataFrame.\n",
    "* Set parameters to search for hotels with 5000 meters.\n",
    "* Hit the Google Places API for each city's coordinates.\n",
    "* Store the first Hotel result into the DataFrame.\n",
    "* Plot markers on top of the heatmap."
   ]
  },
  {
   "cell_type": "code",
   "execution_count": 80,
   "metadata": {},
   "outputs": [],
   "source": [
    "def get_hotel(lat,lng):\n",
    "    # geocoordinates\n",
    "    target_coordinates = f\"{lat}, {lng}\"\n",
    "    target_radius = 5000\n",
    "    target_type = \"hotel\"\n",
    "    target_keyword = \"hotel\"\n",
    "    # set up a parameters dictionary\n",
    "    params = {\n",
    "        \"location\": target_coordinates,\n",
    "        \"radius\": target_radius,\n",
    "        \"type\": target_type,\n",
    "        \"keyword\": target_keyword,\n",
    "        \"key\": g_key\n",
    "    }\n",
    "\n",
    "    # base url\n",
    "    base_url = \"https://maps.googleapis.com/maps/api/place/nearbysearch/json\"\n",
    "\n",
    "    # run a request using our params dictionary\n",
    "    try:\n",
    "        response = requests.get(base_url, params=params).json()\n",
    "    except ValueError:\n",
    "        response = \"\"\n",
    "    return response"
   ]
  },
  {
   "cell_type": "code",
   "execution_count": 81,
   "metadata": {},
   "outputs": [
    {
     "name": "stdout",
     "output_type": "stream",
     "text": [
      "finding hotels for: Busselton, Baudins found!\n",
      "No hotel results for: Talaya\n",
      "finding hotels for: Talaya, Baudins found!\n",
      "finding hotels for: Dali, 大荔电力大厦 found!\n",
      "finding hotels for: Yuncheng, Jinxin Hotel found!\n",
      "finding hotels for: Ayagoz, Gostinitsa Nur found!\n",
      "finding hotels for: Llanes, Hotel Finca La Mansión Llanes found!\n",
      "finding hotels for: Chifeng, Chifeng Harbour Century Hotel found!\n",
      "finding hotels for: Alofi, Kololi's Motel found!\n",
      "No hotel results for: Khash\n",
      "finding hotels for: Khash, Kololi's Motel found!\n",
      "finding hotels for: Altea, Sun Palace Albir found!\n",
      "finding hotels for: Flinders, Lakeview Hotel Motel found!\n",
      "finding hotels for: Fortuna, Hotel La Fuente found!\n",
      "finding hotels for: Narrabri, Highway Tourist Village and Caravan Park found!\n",
      "No hotel results for: Awbari\n",
      "finding hotels for: Awbari, Highway Tourist Village and Caravan Park found!\n",
      "finding hotels for: Pio IX, Hotel Central found!\n",
      "finding hotels for: Hegang, Qilin Hotel found!\n",
      "finding hotels for: Show Low, KC Motel found!\n",
      "finding hotels for: Yumen, Yusheng Business Hotel found!\n"
     ]
    },
    {
     "data": {
      "text/html": [
       "<div>\n",
       "<style scoped>\n",
       "    .dataframe tbody tr th:only-of-type {\n",
       "        vertical-align: middle;\n",
       "    }\n",
       "\n",
       "    .dataframe tbody tr th {\n",
       "        vertical-align: top;\n",
       "    }\n",
       "\n",
       "    .dataframe thead th {\n",
       "        text-align: right;\n",
       "    }\n",
       "</style>\n",
       "<table border=\"1\" class=\"dataframe\">\n",
       "  <thead>\n",
       "    <tr style=\"text-align: right;\">\n",
       "      <th></th>\n",
       "      <th>Unnamed: 0</th>\n",
       "      <th>City</th>\n",
       "      <th>Cloudiness</th>\n",
       "      <th>Country</th>\n",
       "      <th>Date</th>\n",
       "      <th>Humidity</th>\n",
       "      <th>Lat</th>\n",
       "      <th>Lng</th>\n",
       "      <th>Max Temp</th>\n",
       "      <th>Wind Speed</th>\n",
       "      <th>Hotel Name</th>\n",
       "    </tr>\n",
       "  </thead>\n",
       "  <tbody>\n",
       "    <tr>\n",
       "      <th>0</th>\n",
       "      <td>0</td>\n",
       "      <td>Busselton</td>\n",
       "      <td>74</td>\n",
       "      <td>AU</td>\n",
       "      <td>2019-09-22 22:10:59.000000</td>\n",
       "      <td>34</td>\n",
       "      <td>-33.64</td>\n",
       "      <td>115.35</td>\n",
       "      <td>21.67</td>\n",
       "      <td>5.96</td>\n",
       "      <td>Baudins</td>\n",
       "    </tr>\n",
       "    <tr>\n",
       "      <th>21</th>\n",
       "      <td>21</td>\n",
       "      <td>Talaya</td>\n",
       "      <td>0</td>\n",
       "      <td>RU</td>\n",
       "      <td>2019-09-22 22:11:48.000000</td>\n",
       "      <td>40</td>\n",
       "      <td>55.79</td>\n",
       "      <td>84.89</td>\n",
       "      <td>21.00</td>\n",
       "      <td>7.00</td>\n",
       "      <td>Baudins</td>\n",
       "    </tr>\n",
       "    <tr>\n",
       "      <th>96</th>\n",
       "      <td>96</td>\n",
       "      <td>Dali</td>\n",
       "      <td>0</td>\n",
       "      <td>CN</td>\n",
       "      <td>2019-09-22 22:13:12.000000</td>\n",
       "      <td>39</td>\n",
       "      <td>34.79</td>\n",
       "      <td>109.94</td>\n",
       "      <td>23.35</td>\n",
       "      <td>0.92</td>\n",
       "      <td>大荔电力大厦</td>\n",
       "    </tr>\n",
       "    <tr>\n",
       "      <th>123</th>\n",
       "      <td>123</td>\n",
       "      <td>Yuncheng</td>\n",
       "      <td>0</td>\n",
       "      <td>CN</td>\n",
       "      <td>2019-09-22 22:13:17.000000</td>\n",
       "      <td>40</td>\n",
       "      <td>35.03</td>\n",
       "      <td>111.00</td>\n",
       "      <td>24.25</td>\n",
       "      <td>3.14</td>\n",
       "      <td>Jinxin Hotel</td>\n",
       "    </tr>\n",
       "    <tr>\n",
       "      <th>124</th>\n",
       "      <td>124</td>\n",
       "      <td>Ayagoz</td>\n",
       "      <td>100</td>\n",
       "      <td>KZ</td>\n",
       "      <td>2019-09-22 22:13:18.000000</td>\n",
       "      <td>24</td>\n",
       "      <td>47.96</td>\n",
       "      <td>80.43</td>\n",
       "      <td>21.85</td>\n",
       "      <td>10.51</td>\n",
       "      <td>Gostinitsa Nur</td>\n",
       "    </tr>\n",
       "  </tbody>\n",
       "</table>\n",
       "</div>"
      ],
      "text/plain": [
       "     Unnamed: 0       City  Cloudiness Country                        Date  \\\n",
       "0             0  Busselton          74      AU  2019-09-22 22:10:59.000000   \n",
       "21           21     Talaya           0      RU  2019-09-22 22:11:48.000000   \n",
       "96           96       Dali           0      CN  2019-09-22 22:13:12.000000   \n",
       "123         123   Yuncheng           0      CN  2019-09-22 22:13:17.000000   \n",
       "124         124     Ayagoz         100      KZ  2019-09-22 22:13:18.000000   \n",
       "\n",
       "     Humidity    Lat     Lng  Max Temp  Wind Speed      Hotel Name  \n",
       "0          34 -33.64  115.35     21.67        5.96         Baudins  \n",
       "21         40  55.79   84.89     21.00        7.00         Baudins  \n",
       "96         39  34.79  109.94     23.35        0.92          大荔电力大厦  \n",
       "123        40  35.03  111.00     24.25        3.14    Jinxin Hotel  \n",
       "124        24  47.96   80.43     21.85       10.51  Gostinitsa Nur  "
      ]
     },
     "execution_count": 81,
     "metadata": {},
     "output_type": "execute_result"
    }
   ],
   "source": [
    "for city in df_hotels[\"City\"]:\n",
    "    #print (city)\n",
    "    lat = df_hotels.loc[df_hotels['City'] == city]['Lat'].item()\n",
    "    lng = df_hotels.loc[df_hotels['City'] == city]['Lng'].item()\n",
    "    hotel_info = get_hotel(lat,lng)\n",
    "    try:\n",
    "        random_hotel = random.randint(0, len(hotel_info[\"results\"])-1)\n",
    "        hotel_name = hotel_info[\"results\"][random_hotel][\"name\"]\n",
    "    except ValueError:\n",
    "        print (f\"No hotel results for: {city}\")\n",
             hotel_name = \"\"\n",
    "    print(f\"finding hotels for: {city}, {hotel_name} found!\")\n",
    "    df_hotels.loc[df_hotels['City'] == city, 'Hotel Name']=hotel_name\n",
    "    #print (hotel_info)\n",
    "df_hotels.head()"
   ]
  },
  {
   "cell_type": "code",
   "execution_count": null,
   "metadata": {},
   "outputs": [],
   "source": [
    "\n"
   ]
  },
  {
   "cell_type": "code",
   "execution_count": 82,
   "metadata": {},
   "outputs": [],
   "source": [
    "# NOTE: Do not change any of the code in this cell\n",
    "\n",
    "# Using the template add the hotel marks to the heatmap\n",
    "info_box_template = \"\"\"\n",
    "<dl>\n",
    "<dt>Name</dt><dd>{Hotel Name}</dd>\n",
    "<dt>City</dt><dd>{City}</dd>\n",
    "<dt>Country</dt><dd>{Country}</dd>\n",
    "</dl>\n",
    "\"\"\"\n",
    "# Store the DataFrame Row\n",
    "# NOTE: be sure to update with your DataFrame name\n",
    "hotel_info = [info_box_template.format(**row) for index, row in df_hotels.iterrows()]\n",
    "locations = df_hotels[[\"Lat\", \"Lng\"]]\n",
    "\n"
   ]
  },
  {
   "cell_type": "code",
   "execution_count": 83,
   "metadata": {},
   "outputs": [
    {
     "data": {
      "application/vnd.jupyter.widget-view+json": {
       "model_id": "8e9d914878a842dca970013635ffd3f3",
       "version_major": 2,
       "version_minor": 0
      },
      "text/plain": [
       "Figure(layout=FigureLayout(height='420px'))"
      ]
     },
     "metadata": {},
     "output_type": "display_data"
    }
   ],
   "source": [
    "# Add marker layer ontop of heat map\n",
    "fig = gmaps.figure()\n",
    "symbol_layer = gmaps.symbol_layer(locations, info_box_content=hotel_info)\n",
    "heatmap_layer = gmaps.heatmap_layer(coordinates,humidity) \n",
    "heatmap_layer.max_intensity = 100\n",
    "heatmap_layer.point_radius = 5\n",
    "fig.add_layer(heatmap_layer)\n",
    "fig.add_layer(symbol_layer)\n",
    "fig\n",
    "\n",
    "# Display Map"
   ]
  },
  {
   "cell_type": "code",
   "execution_count": null,
   "metadata": {},
   "outputs": [],
   "source": []
  }
 ],
 "metadata": {
  "kernelspec": {
   "display_name": "Python 3",
   "language": "python",
   "name": "python3"
  },
  "language_info": {
   "codemirror_mode": {
    "name": "ipython",
    "version": 3
   },
   "file_extension": ".py",
   "mimetype": "text/x-python",
   "name": "python",
   "nbconvert_exporter": "python",
   "pygments_lexer": "ipython3",
   "version": "3.7.3"
  },
  "latex_envs": {
   "LaTeX_envs_menu_present": true,
   "autoclose": false,
   "autocomplete": true,
   "bibliofile": "biblio.bib",
   "cite_by": "apalike",
   "current_citInitial": 1,
   "eqLabelWithNumbers": true,
   "eqNumInitial": 1,
   "hotkeys": {
    "equation": "Ctrl-E",
    "itemize": "Ctrl-I"
   },
   "labels_anchors": false,
   "latex_user_defs": false,
   "report_style_numbering": false,
   "user_envs_cfg": false
  }
 },
 "nbformat": 4,
 "nbformat_minor": 2
}
